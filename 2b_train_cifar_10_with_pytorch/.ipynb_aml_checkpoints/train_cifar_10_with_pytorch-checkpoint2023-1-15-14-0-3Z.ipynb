{
  "cells": [
    {
      "cell_type": "markdown",
      "source": [
        "# cifar-10 pipeline\n",
        "\n",
        "**Requirements** - In order to benefit from this tutorial, you will need:\n",
        "- A basic understanding of Machine Learning\n",
        "- An Azure account with an active subscription - [Create an account for free](https://azure.microsoft.com/free/?WT.mc_id=A261C142F)\n",
        "- An Azure ML workspace with computer cluster - [Configure workspace](../../configuration.ipynb)\n",
        "- A python environment\n",
        "- Installed Azure Machine Learning Python SDK v2 - [install instructions](../../../README.md) - check the getting started section\n",
        "\n",
        "**Learning Objectives** - By the end of this tutorial, you should be able to:\n",
        "- Connect to your AML workspace from the Python SDK\n",
        "- Define `CommandComponent` using YAML\n",
        "- Create basic `Pipeline` using component from local YAML file\n",
        "\n",
        "**Motivations** - This notebook explains how to define `commandComponent` via YAML then use command component to build pipeline. The command compoonent is a fundamental construct of Azure Machine Learning pipeline. It can be used to run a task on a specified compute (either local or on the cloud). The command compoonent accepts `Environment` to setup required infrastructure. You can define a `command` to run on this infrastructure with `inputs`. You can reuse the same `Component` with different pipeline.  "
      ],
      "metadata": {}
    },
    {
      "cell_type": "markdown",
      "source": [
        "# 1. Connect to Azure Machine Learning Workspace\n",
        "\n",
        "The [workspace](https://docs.microsoft.com/en-us/azure/machine-learning/concept-workspace) is the top-level resource for Azure Machine Learning, providing a centralized place to work with all the artifacts you create when you use Azure Machine Learning. In this section we will connect to the workspace in which the job will be run.\n",
        "\n",
        "## 1.1 Import the required libraries"
      ],
      "metadata": {}
    },
    {
      "cell_type": "code",
      "source": [
        "# import required libraries\n",
        "from azure.identity import DefaultAzureCredential, InteractiveBrowserCredential\n",
        "\n",
        "from azure.ai.ml import MLClient, Input\n",
        "from azure.ai.ml.dsl import pipeline\n",
        "from azure.ai.ml import load_component"
      ],
      "outputs": [],
      "execution_count": 2,
      "metadata": {
        "gather": {
          "logged": 1676465626718
        }
      }
    },
    {
      "cell_type": "markdown",
      "source": [
        "## 1.2 Configure credential\n",
        "\n",
        "We are using `DefaultAzureCredential` to get access to workspace. \n",
        "`DefaultAzureCredential` should be capable of handling most Azure SDK authentication scenarios. \n",
        "\n",
        "Reference for more available credentials if it does not work for you: [configure credential example](../../configuration.ipynb), [azure-identity reference doc](https://docs.microsoft.com/en-us/python/api/azure-identity/azure.identity?view=azure-python)."
      ],
      "metadata": {}
    },
    {
      "cell_type": "code",
      "source": [
        "try:\n",
        "    credential = DefaultAzureCredential()\n",
        "    # Check if given credential can get token successfully.\n",
        "    credential.get_token(\"https://management.azure.com/.default\")\n",
        "except Exception as ex:\n",
        "    # Fall back to InteractiveBrowserCredential in case DefaultAzureCredential not work\n",
        "    credential = InteractiveBrowserCredential()"
      ],
      "outputs": [],
      "execution_count": null,
      "metadata": {}
    },
    {
      "cell_type": "code",
      "source": [
        "credential = DefaultAzureCredential()\r\n",
        "\r\n",
        "    # Enter details of your AML workspace\r\n",
        "subscription_id = \"225d6361-069a-4dfb-9bbb-3ebb42663de0\"\r\n",
        "resource_group = \"testFeast\"\r\n",
        "workspace = \"mlqsrwdadqzph7i\"\r\n",
        "ml_client = MLClient(credential, subscription_id, resource_group, workspace)"
      ],
      "outputs": [],
      "execution_count": 3,
      "metadata": {
        "jupyter": {
          "source_hidden": false,
          "outputs_hidden": false
        },
        "nteract": {
          "transient": {
            "deleting": false
          }
        },
        "gather": {
          "logged": 1676465628413
        }
      }
    },
    {
      "cell_type": "markdown",
      "source": [
        "## 1.3 Get a handle to the workspace\n",
        "\n",
        "We use config file to connect to a workspace. The Azure ML workspace should be configured with computer cluster. [Check this notebook for configure a workspace](../../configuration.ipynb)"
      ],
      "metadata": {}
    },
    {
      "cell_type": "code",
      "source": [
        "# Get a handle to workspace\n",
        "#ml_client = MLClient.from_config(credential=credential)\n",
        "\n",
        "# Retrieve an already attached Azure Machine Learning Compute.\n",
        "cluster_name = \"cpu-cluster\"\n",
        "print(ml_client.compute.get(cluster_name))"
      ],
      "outputs": [
        {
          "output_type": "stream",
          "name": "stdout",
          "text": "AmlCompute({'type': 'amlcompute', 'created_on': None, 'provisioning_state': 'Succeeded', 'provisioning_errors': None, 'name': 'cpu-cluster', 'description': None, 'tags': {}, 'properties': {}, 'id': '/subscriptions/225d6361-069a-4dfb-9bbb-3ebb42663de0/resourceGroups/testfeast/providers/Microsoft.MachineLearningServices/workspaces/mlqsrwdadqzph7i/computes/cpu-cluster', 'base_path': './', 'creation_context': None, 'serialize': <msrest.serialization.Serializer object at 0x7fb27f767640>, 'resource_id': None, 'location': 'eastus2', 'size': 'STANDARD_DS12_V2', 'min_instances': 0, 'max_instances': 2, 'idle_time_before_scale_down': 120.0, 'identity': None, 'ssh_public_access_enabled': True, 'ssh_settings': None, 'network_settings': None, 'tier': 'dedicated'})\n"
        }
      ],
      "execution_count": 4,
      "metadata": {
        "gather": {
          "logged": 1676465646128
        }
      }
    },
    {
      "cell_type": "markdown",
      "source": [
        "# 2. Define command component via YAML\n",
        "Define command component using YAML and load as function."
      ],
      "metadata": {}
    },
    {
      "cell_type": "code",
      "source": [
        "parent_dir = \".\"\n",
        "get_data_func = load_component(\"./get-data.yml\")\n",
        "train_model_func = load_component(\"./train-model.yml\")\n",
        "eval_model_func = load_component(\"./eval-model.yml\")"
      ],
      "outputs": [],
      "execution_count": 5,
      "metadata": {
        "gather": {
          "logged": 1676465698318
        }
      }
    },
    {
      "cell_type": "markdown",
      "source": [
        "# 3. Basic pipeline job\n",
        "\n",
        "## 3.1 Build pipeline"
      ],
      "metadata": {}
    },
    {
      "cell_type": "code",
      "source": [
        "# note that the used docker image doesn't suit for all size of gpu compute. Please use the following command to create gpu compute if experiment failed\n",
        "# !az ml compute create -n gpu-cluster --type amlcompute --min-instances 0 --max-instances 4 --size Standard_NC12"
      ],
      "outputs": [],
      "execution_count": null,
      "metadata": {}
    },
    {
      "cell_type": "code",
      "source": [
        "# Define pipeline\n",
        "@pipeline()\n",
        "def train_cifar_10_with_pytorch():\n",
        "    \"\"\"CIFAR-10 Pipeline Example.\"\"\"\n",
        "    # define the job to get data\n",
        "    get_data = get_data_func(\n",
        "        cifar_zip=Input(\n",
        "            path=\"wasbs://datasets@azuremlexamples.blob.core.windows.net/cifar-10-python.tar.gz\",\n",
        "            type=\"uri_file\",\n",
        "        )\n",
        "    )\n",
        "    get_data.outputs.cifar.mode = \"upload\"\n",
        "\n",
        "    # define the job to train the model\n",
        "    train_model = train_model_func(epochs=1, cifar=get_data.outputs.cifar)\n",
        "    train_model.compute = \"gpu-cluster-V100\"\n",
        "    train_model.outputs.model_dir.mode = \"upload\"\n",
        "    train_model.resources.instance_count = 1\n",
        "\n",
        "    # define the job to evaluate the model\n",
        "    eval_model = eval_model_func(\n",
        "        cifar=get_data.outputs.cifar, model_dir=train_model.outputs.model_dir\n",
        "    )\n",
        "    eval_model.compute = \"gpu-cluster-V100\"\n",
        "    eval_model.resources.instance_count = 1\n",
        "\n",
        "\n",
        "pipeline_job = train_cifar_10_with_pytorch()\n",
        "\n",
        "# set pipeline level compute\n",
        "pipeline_job.settings.default_compute = \"cpu-cluster\""
      ],
      "outputs": [],
      "execution_count": 10,
      "metadata": {
        "gather": {
          "logged": 1676465863127
        }
      }
    },
    {
      "cell_type": "markdown",
      "source": [
        "# 3.2 Submit pipeline job"
      ],
      "metadata": {}
    },
    {
      "cell_type": "code",
      "source": [
        "# submit the pipeline job\n",
        "pipeline_job = ml_client.jobs.create_or_update(\n",
        "    pipeline_job, experiment_name=\"pipeline_samples\"\n",
        ")\n",
        "pipeline_job"
      ],
      "outputs": [
        {
          "output_type": "execute_result",
          "execution_count": 11,
          "data": {
            "text/plain": "PipelineJob({'inputs': {}, 'outputs': {}, 'component': _PipelineComponent({'components': {}, 'auto_increment_version': False, 'is_anonymous': True, 'name': '358175b9-9a81-4afe-9dd1-d4eacdd98d64', 'description': None, 'tags': {}, 'properties': {}, 'id': None, 'base_path': None, 'creation_context': None, 'serialize': <msrest.serialization.Serializer object at 0x7fb2717254e0>, 'version': '1', 'latest_version': None, 'schema': None, 'type': 'pipeline_component', 'display_name': 'train_cifar_10_with_pytorch', 'is_deterministic': True, 'inputs': {}, 'outputs': {}, 'source': <ComponentSource.REST: 'REST'>, 'yaml_str': None, 'other_parameter': {}, 'func': <function [component] train_cifar_10_with_pytorch at 0x7fb27c12ac20>}), 'type': 'pipeline', 'status': 'Preparing', 'log_files': None, 'name': 'bold_kale_0w4r8pmtsm', 'description': None, 'tags': {}, 'properties': {'mlflow.source.git.repoURL': 'https://github.com/Azure/azureml-examples.git', 'mlflow.source.git.branch': 'jyravi-patch-2', 'mlflow.source.git.commit': 'dd1d71ef0d115e8b6918ef83a82145222dd9f163', 'azureml.git.dirty': 'True', 'azureml.DevPlatv2': 'true', 'azureml.runsource': 'azureml.PipelineRun', 'runSource': 'MFE', 'runType': 'HTTP', 'azureml.parameters': '{}', 'azureml.continue_on_step_failure': 'False', 'azureml.continue_on_failed_optional_input': 'True', 'azureml.defaultComputeName': 'cpu-cluster', 'azureml.defaultDataStoreName': 'workspaceblobstore', 'azureml.pipelineComponent': 'pipelinerun'}, 'id': '/subscriptions/225d6361-069a-4dfb-9bbb-3ebb42663de0/resourceGroups/testFeast/providers/Microsoft.MachineLearningServices/workspaces/mlqsrwdadqzph7i/jobs/bold_kale_0w4r8pmtsm', 'base_path': './', 'creation_context': <azure.ai.ml._restclient.v2022_02_01_preview.models._models_py3.SystemData object at 0x7fb271725420>, 'serialize': <msrest.serialization.Serializer object at 0x7fb271725660>, 'display_name': 'train_cifar_10_with_pytorch', 'experiment_name': 'pipeline_samples', 'compute': None, 'services': {'Tracking': <azure.ai.ml._restclient.v2022_02_01_preview.models._models_py3.JobService object at 0x7fb271725120>, 'Studio': <azure.ai.ml._restclient.v2022_02_01_preview.models._models_py3.JobService object at 0x7fb271725150>}, 'jobs': {'get_data': {}, 'train_model': {}, 'eval_model': {}}, 'settings': <azure.ai.ml.entities._job.pipeline.pipeline_job_settings.PipelineJobSettings object at 0x7fb271724f40>, 'identity': None, 'schedule': None, 'default_code': None, 'default_environment': None})",
            "text/html": "<table style=\"width:100%\"><tr><th>Experiment</th><th>Name</th><th>Type</th><th>Status</th><th>Details Page</th></tr><tr><td>pipeline_samples</td><td>bold_kale_0w4r8pmtsm</td><td>pipeline</td><td>Preparing</td><td><a href=\"https://ml.azure.com/runs/bold_kale_0w4r8pmtsm?wsid=/subscriptions/225d6361-069a-4dfb-9bbb-3ebb42663de0/resourcegroups/testFeast/workspaces/mlqsrwdadqzph7i&amp;tid=72f988bf-86f1-41af-91ab-2d7cd011db47\" target=\"_blank\" rel=\"noopener\">Link to Azure Machine Learning studio</a></td></tr></table>"
          },
          "metadata": {}
        }
      ],
      "execution_count": 11,
      "metadata": {
        "gather": {
          "logged": 1676465871416
        }
      }
    },
    {
      "cell_type": "code",
      "source": [
        "# Wait until the job completes\n",
        "ml_client.jobs.stream(pipeline_job.name)"
      ],
      "outputs": [
        {
          "output_type": "stream",
          "name": "stdout",
          "text": "RunId: bold_kale_0w4r8pmtsm\nWeb View: https://ml.azure.com/runs/bold_kale_0w4r8pmtsm?wsid=/subscriptions/225d6361-069a-4dfb-9bbb-3ebb42663de0/resourcegroups/testFeast/workspaces/mlqsrwdadqzph7i\n\nStreaming logs/azureml/executionlogs.txt\n========================================\n\n[2023-02-15 12:57:50Z] Submitting 1 runs, first five are: 7abb807d:c8f64bca-4f53-4484-bb63-f2b5c1252ea3\n[2023-02-15 13:00:48Z] Completing processing run id c8f64bca-4f53-4484-bb63-f2b5c1252ea3.\n[2023-02-15 13:00:48Z] Submitting 1 runs, first five are: 1d42945e:0d86e278-e939-4b58-8933-22587ab919ba\n[2023-02-15 13:08:24Z] Execution of experiment failed, update experiment status and cancel running nodes.\n\nExecution Summary\n=================\nRunId: bold_kale_0w4r8pmtsm\nWeb View: https://ml.azure.com/runs/bold_kale_0w4r8pmtsm?wsid=/subscriptions/225d6361-069a-4dfb-9bbb-3ebb42663de0/resourcegroups/testFeast/workspaces/mlqsrwdadqzph7i\n"
        },
        {
          "output_type": "error",
          "ename": "JobException",
          "evalue": "Exception : \n {\n    \"error\": {\n        \"code\": \"UserError\",\n        \"message\": \"Pipeline has some failed steps. See child run or execution logs for more details.\",\n        \"message_format\": \"Pipeline has some failed steps. {0}\",\n        \"message_parameters\": {},\n        \"reference_code\": \"PipelineHasStepJobFailed\",\n        \"details\": []\n    },\n    \"environment\": \"eastus2\",\n    \"location\": \"eastus2\",\n    \"time\": \"2023-02-15T13:08:24.870196Z\",\n    \"component_name\": \"\"\n} ",
          "traceback": [
            "\u001b[0;31m---------------------------------------------------------------------------\u001b[0m",
            "\u001b[0;31mJobException\u001b[0m                              Traceback (most recent call last)",
            "Input \u001b[0;32mIn [12]\u001b[0m, in \u001b[0;36m<cell line: 2>\u001b[0;34m()\u001b[0m\n\u001b[1;32m      1\u001b[0m \u001b[38;5;66;03m# Wait until the job completes\u001b[39;00m\n\u001b[0;32m----> 2\u001b[0m \u001b[43mml_client\u001b[49m\u001b[38;5;241;43m.\u001b[39;49m\u001b[43mjobs\u001b[49m\u001b[38;5;241;43m.\u001b[39;49m\u001b[43mstream\u001b[49m\u001b[43m(\u001b[49m\u001b[43mpipeline_job\u001b[49m\u001b[38;5;241;43m.\u001b[39;49m\u001b[43mname\u001b[49m\u001b[43m)\u001b[49m\n",
            "File \u001b[0;32m/anaconda/envs/azureml_py310_sdkv2/lib/python3.10/site-packages/azure/ai/ml/_telemetry/activity.py:169\u001b[0m, in \u001b[0;36mmonitor_with_activity.<locals>.monitor.<locals>.wrapper\u001b[0;34m(*args, **kwargs)\u001b[0m\n\u001b[1;32m    166\u001b[0m \u001b[38;5;129m@functools\u001b[39m\u001b[38;5;241m.\u001b[39mwraps(f)\n\u001b[1;32m    167\u001b[0m \u001b[38;5;28;01mdef\u001b[39;00m \u001b[38;5;21mwrapper\u001b[39m(\u001b[38;5;241m*\u001b[39margs, \u001b[38;5;241m*\u001b[39m\u001b[38;5;241m*\u001b[39mkwargs):\n\u001b[1;32m    168\u001b[0m     \u001b[38;5;28;01mwith\u001b[39;00m log_activity(logger, activity_name \u001b[38;5;129;01mor\u001b[39;00m f\u001b[38;5;241m.\u001b[39m\u001b[38;5;18m__name__\u001b[39m, activity_type, custom_dimensions):\n\u001b[0;32m--> 169\u001b[0m         \u001b[38;5;28;01mreturn\u001b[39;00m \u001b[43mf\u001b[49m\u001b[43m(\u001b[49m\u001b[38;5;241;43m*\u001b[39;49m\u001b[43margs\u001b[49m\u001b[43m,\u001b[49m\u001b[43m \u001b[49m\u001b[38;5;241;43m*\u001b[39;49m\u001b[38;5;241;43m*\u001b[39;49m\u001b[43mkwargs\u001b[49m\u001b[43m)\u001b[49m\n",
            "File \u001b[0;32m/anaconda/envs/azureml_py310_sdkv2/lib/python3.10/site-packages/azure/ai/ml/_operations/job_operations.py:482\u001b[0m, in \u001b[0;36mJobOperations.stream\u001b[0;34m(self, name)\u001b[0m\n\u001b[1;32m    479\u001b[0m     \u001b[38;5;28;01mraise\u001b[39;00m PipelineChildJobError(job_id\u001b[38;5;241m=\u001b[39mjob_object\u001b[38;5;241m.\u001b[39mid)\n\u001b[1;32m    481\u001b[0m \u001b[38;5;28;01mtry\u001b[39;00m:\n\u001b[0;32m--> 482\u001b[0m     \u001b[38;5;28;43mself\u001b[39;49m\u001b[38;5;241;43m.\u001b[39;49m\u001b[43m_stream_logs_until_completion\u001b[49m\u001b[43m(\u001b[49m\n\u001b[1;32m    483\u001b[0m \u001b[43m        \u001b[49m\u001b[38;5;28;43mself\u001b[39;49m\u001b[38;5;241;43m.\u001b[39;49m\u001b[43m_runs_operations\u001b[49m\u001b[43m,\u001b[49m\n\u001b[1;32m    484\u001b[0m \u001b[43m        \u001b[49m\u001b[43mjob_object\u001b[49m\u001b[43m,\u001b[49m\n\u001b[1;32m    485\u001b[0m \u001b[43m        \u001b[49m\u001b[38;5;28;43mself\u001b[39;49m\u001b[38;5;241;43m.\u001b[39;49m\u001b[43m_datastore_operations\u001b[49m\u001b[43m,\u001b[49m\n\u001b[1;32m    486\u001b[0m \u001b[43m    \u001b[49m\u001b[43m)\u001b[49m\n\u001b[1;32m    487\u001b[0m \u001b[38;5;28;01mexcept\u001b[39;00m \u001b[38;5;167;01mException\u001b[39;00m:\n\u001b[1;32m    488\u001b[0m     \u001b[38;5;28;01mraise\u001b[39;00m\n",
            "File \u001b[0;32m/anaconda/envs/azureml_py310_sdkv2/lib/python3.10/site-packages/azure/ai/ml/_operations/job_ops_helper.py:287\u001b[0m, in \u001b[0;36mstream_logs_until_completion\u001b[0;34m(run_operations, job_resource, datastore_operations, raise_exception_on_failed_job)\u001b[0m\n\u001b[1;32m    285\u001b[0m         file_handle\u001b[38;5;241m.\u001b[39mwrite(\u001b[38;5;124m\"\u001b[39m\u001b[38;5;130;01m\\n\u001b[39;00m\u001b[38;5;124m\"\u001b[39m)\n\u001b[1;32m    286\u001b[0m     \u001b[38;5;28;01melse\u001b[39;00m:\n\u001b[0;32m--> 287\u001b[0m         \u001b[38;5;28;01mraise\u001b[39;00m JobException(\n\u001b[1;32m    288\u001b[0m             message\u001b[38;5;241m=\u001b[39m\u001b[38;5;124m\"\u001b[39m\u001b[38;5;124mException : \u001b[39m\u001b[38;5;130;01m\\n\u001b[39;00m\u001b[38;5;124m \u001b[39m\u001b[38;5;132;01m{}\u001b[39;00m\u001b[38;5;124m \u001b[39m\u001b[38;5;124m\"\u001b[39m\u001b[38;5;241m.\u001b[39mformat(json\u001b[38;5;241m.\u001b[39mdumps(error, indent\u001b[38;5;241m=\u001b[39m\u001b[38;5;241m4\u001b[39m)),\n\u001b[1;32m    289\u001b[0m             target\u001b[38;5;241m=\u001b[39mErrorTarget\u001b[38;5;241m.\u001b[39mJOB,\n\u001b[1;32m    290\u001b[0m             no_personal_data_message\u001b[38;5;241m=\u001b[39m\u001b[38;5;124m\"\u001b[39m\u001b[38;5;124mException raised on failed job.\u001b[39m\u001b[38;5;124m\"\u001b[39m,\n\u001b[1;32m    291\u001b[0m         )\n\u001b[1;32m    293\u001b[0m file_handle\u001b[38;5;241m.\u001b[39mwrite(\u001b[38;5;124m\"\u001b[39m\u001b[38;5;130;01m\\n\u001b[39;00m\u001b[38;5;124m\"\u001b[39m)\n\u001b[1;32m    294\u001b[0m file_handle\u001b[38;5;241m.\u001b[39mflush()\n",
            "\u001b[0;31mJobException\u001b[0m: Exception : \n {\n    \"error\": {\n        \"code\": \"UserError\",\n        \"message\": \"Pipeline has some failed steps. See child run or execution logs for more details.\",\n        \"message_format\": \"Pipeline has some failed steps. {0}\",\n        \"message_parameters\": {},\n        \"reference_code\": \"PipelineHasStepJobFailed\",\n        \"details\": []\n    },\n    \"environment\": \"eastus2\",\n    \"location\": \"eastus2\",\n    \"time\": \"2023-02-15T13:08:24.870196Z\",\n    \"component_name\": \"\"\n} "
          ]
        }
      ],
      "execution_count": 12,
      "metadata": {
        "gather": {
          "logged": 1676466563053
        }
      }
    },
    {
      "cell_type": "markdown",
      "source": [
        "# Next Steps\n",
        "You can see further examples of running a pipeline job [here](../)"
      ],
      "metadata": {}
    }
  ],
  "metadata": {
    "description": {
      "description": "Get data, train and evaluate a model in pipeline with Components"
    },
    "interpreter": {
      "hash": "45ee23ad53d8447c1a4a7f9f605254595f8ee53c2e1723e7948bbd485e96ca91"
    },
    "kernelspec": {
      "name": "python310-sdkv2",
      "language": "python",
      "display_name": "Python 3.10 - SDK V2"
    },
    "language_info": {
      "name": "python",
      "version": "3.10.4",
      "mimetype": "text/x-python",
      "codemirror_mode": {
        "name": "ipython",
        "version": 3
      },
      "pygments_lexer": "ipython3",
      "nbconvert_exporter": "python",
      "file_extension": ".py"
    },
    "kernel_info": {
      "name": "python310-sdkv2"
    },
    "nteract": {
      "version": "nteract-front-end@1.0.0"
    }
  },
  "nbformat": 4,
  "nbformat_minor": 4
}