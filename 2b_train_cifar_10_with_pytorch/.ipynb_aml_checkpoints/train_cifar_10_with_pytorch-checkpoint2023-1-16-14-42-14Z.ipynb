{
  "cells": [
    {
      "cell_type": "markdown",
      "source": [
        "# cifar-10 pipeline\n",
        "\n",
        "**Requirements** - In order to benefit from this tutorial, you will need:\n",
        "- A basic understanding of Machine Learning\n",
        "- An Azure account with an active subscription - [Create an account for free](https://azure.microsoft.com/free/?WT.mc_id=A261C142F)\n",
        "- An Azure ML workspace with computer cluster - [Configure workspace](../../configuration.ipynb)\n",
        "- A python environment\n",
        "- Installed Azure Machine Learning Python SDK v2 - [install instructions](../../../README.md) - check the getting started section\n",
        "\n",
        "**Learning Objectives** - By the end of this tutorial, you should be able to:\n",
        "- Connect to your AML workspace from the Python SDK\n",
        "- Define `CommandComponent` using YAML\n",
        "- Create basic `Pipeline` using component from local YAML file\n",
        "\n",
        "**Motivations** - This notebook explains how to define `commandComponent` via YAML then use command component to build pipeline. The command compoonent is a fundamental construct of Azure Machine Learning pipeline. It can be used to run a task on a specified compute (either local or on the cloud). The command compoonent accepts `Environment` to setup required infrastructure. You can define a `command` to run on this infrastructure with `inputs`. You can reuse the same `Component` with different pipeline.  "
      ],
      "metadata": {}
    },
    {
      "cell_type": "markdown",
      "source": [
        "# 1. Connect to Azure Machine Learning Workspace\n",
        "\n",
        "The [workspace](https://docs.microsoft.com/en-us/azure/machine-learning/concept-workspace) is the top-level resource for Azure Machine Learning, providing a centralized place to work with all the artifacts you create when you use Azure Machine Learning. In this section we will connect to the workspace in which the job will be run.\n",
        "\n",
        "## 1.1 Import the required libraries"
      ],
      "metadata": {}
    },
    {
      "cell_type": "code",
      "source": [
        "# import required libraries\n",
        "from azure.identity import DefaultAzureCredential, InteractiveBrowserCredential\n",
        "\n",
        "from azure.ai.ml import MLClient, Input\n",
        "from azure.ai.ml.dsl import pipeline\n",
        "from azure.ai.ml import load_component"
      ],
      "outputs": [],
      "execution_count": 13,
      "metadata": {
        "gather": {
          "logged": 1676539490647
        }
      }
    },
    {
      "cell_type": "markdown",
      "source": [
        "## 1.2 Configure credential\n",
        "\n",
        "We are using `DefaultAzureCredential` to get access to workspace. \n",
        "`DefaultAzureCredential` should be capable of handling most Azure SDK authentication scenarios. \n",
        "\n",
        "Reference for more available credentials if it does not work for you: [configure credential example](../../configuration.ipynb), [azure-identity reference doc](https://docs.microsoft.com/en-us/python/api/azure-identity/azure.identity?view=azure-python)."
      ],
      "metadata": {}
    },
    {
      "cell_type": "code",
      "source": [
        "credential = DefaultAzureCredential()\r\n",
        "\r\n",
        "    # Enter details of your AML workspace\r\n",
        "subscription_id = \"\"\r\n",
        "resource_group = \"\"\r\n",
        "workspace = \"\"\r\n",
        "ml_client = MLClient(credential, subscription_id, resource_group, workspace)"
      ],
      "outputs": [],
      "execution_count": 14,
      "metadata": {
        "jupyter": {
          "source_hidden": false,
          "outputs_hidden": false
        },
        "nteract": {
          "transient": {
            "deleting": false
          }
        },
        "gather": {
          "logged": 1676539493308
        }
      }
    },
    {
      "cell_type": "markdown",
      "source": [
        "## 1.3 Get a handle to the workspace\n",
        "\n",
        "We use config file to connect to a workspace. The Azure ML workspace should be configured with computer cluster. [Check this notebook for configure a workspace](../../configuration.ipynb)"
      ],
      "metadata": {}
    },
    {
      "cell_type": "code",
      "source": [
        "# Get a handle to workspace\n",
        "#ml_client = MLClient.from_config(credential=credential)\n",
        "\n",
        "# Retrieve an already attached Azure Machine Learning Compute.\n",
        "cluster_name = \"cpu-cluster\"\n",
        "print(ml_client.compute.get(cluster_name))"
      ],
      "outputs": [
        {
          "output_type": "stream",
          "name": "stdout",
          "text": "AmlCompute({'type': 'amlcompute', 'created_on': None, 'provisioning_state': 'Succeeded', 'provisioning_errors': None, 'name': 'cpu-cluster', 'description': None, 'tags': {}, 'properties': {}, 'id': '/subscriptions/225d6361-069a-4dfb-9bbb-3ebb42663de0/resourceGroups/testfeast/providers/Microsoft.MachineLearningServices/workspaces/mlqsrwdadqzph7i/computes/cpu-cluster', 'base_path': './', 'creation_context': None, 'serialize': <msrest.serialization.Serializer object at 0x7f4a91ad7c40>, 'resource_id': None, 'location': 'eastus2', 'size': 'STANDARD_DS12_V2', 'min_instances': 0, 'max_instances': 2, 'idle_time_before_scale_down': 120.0, 'identity': None, 'ssh_public_access_enabled': True, 'ssh_settings': None, 'network_settings': None, 'tier': 'dedicated'})\n"
        }
      ],
      "execution_count": 15,
      "metadata": {
        "gather": {
          "logged": 1676539500195
        }
      }
    },
    {
      "cell_type": "markdown",
      "source": [
        "# 2. Define command component via YAML\n",
        "Define command component using YAML and load as function."
      ],
      "metadata": {}
    },
    {
      "cell_type": "code",
      "source": [
        "parent_dir = \".\"\n",
        "get_data_func = load_component(\"./get-data-1.yml\")\n",
        "train_model_func = load_component(\"./train-model.yml\")\n",
        "eval_model_func = load_component(\"./eval-model.yml\")"
      ],
      "outputs": [],
      "execution_count": 24,
      "metadata": {
        "gather": {
          "logged": 1676549552642
        }
      }
    },
    {
      "cell_type": "code",
      "source": [
        "print(get_data_func)"
      ],
      "outputs": [
        {
          "output_type": "stream",
          "name": "stdout",
          "text": "$schema: https://azuremlschemas.azureedge.net/latest/commandComponent.schema.json\nname: get_data\ndisplay_name: Get Data\ntype: command\ninputs:\n  cifar_zip:\n    type: uri_file\noutputs:\n  cifar:\n    type: uri_folder\ncommand: python get_data.py --input_data ${{inputs.cifar_zip}} --output_folder ${{outputs.cifar}}\nenvironment: azureml:AzureML-sklearn-1.0-ubuntu20.04-py38-cpu:1\ncode: azureml:./get-data\nis_deterministic: true\ntags: {}\n\n"
        }
      ],
      "execution_count": 25,
      "metadata": {
        "jupyter": {
          "source_hidden": false,
          "outputs_hidden": false
        },
        "nteract": {
          "transient": {
            "deleting": false
          }
        },
        "gather": {
          "logged": 1676549576071
        }
      }
    },
    {
      "cell_type": "markdown",
      "source": [
        "# 3. Basic pipeline job\n",
        "\n",
        "## 3.1 Build pipeline"
      ],
      "metadata": {}
    },
    {
      "cell_type": "code",
      "source": [
        "# note that the used docker image doesn't suit for all size of gpu compute. Please use the following command to create gpu compute if experiment failed\n",
        "# !az ml compute create -n gpu-cluster --type amlcompute --min-instances 0 --max-instances 4 --size Standard_NC12"
      ],
      "outputs": [],
      "execution_count": 15,
      "metadata": {
        "gather": {
          "logged": 1676469769078
        }
      }
    },
    {
      "cell_type": "code",
      "source": [
        "# Define pipeline\n",
        "@pipeline()\n",
        "def train_cifar_10_with_pytorch():\n",
        "    \"\"\"CIFAR-10 Pipeline Example.\"\"\"\n",
        "    # define the job to get data\n",
        "    get_data = get_data_func(\n",
        "        cifar_zip=Input(\n",
        "            path=\"wasbs://datasets@azuremlexamples.blob.core.windows.net/cifar-10-python.tar.gz\",\n",
        "            type=\"uri_file\",\n",
        "        )\n",
        "    )\n",
        "    get_data.outputs.cifar.mode = \"upload\"\n",
        "\n",
        "    # define the job to train the model\n",
        "    train_model = train_model_func(epochs=1, cifar=get_data.outputs.cifar)\n",
        "    train_model.compute = \"gpu-cluster-V100\"\n",
        "    train_model.outputs.model_dir.mode = \"upload\"\n",
        "    train_model.resources.instance_count = 1\n",
        "\n",
        "    # define the job to evaluate the model\n",
        "    eval_model = eval_model_func(\n",
        "        cifar=get_data.outputs.cifar, model_dir=train_model.outputs.model_dir\n",
        "    )\n",
        "    eval_model.compute = \"gpu-cluster-V100\"\n",
        "    eval_model.resources.instance_count = 1\n",
        "\n",
        "\n",
        "pipeline_job = train_cifar_10_with_pytorch()\n",
        "\n",
        "# set pipeline level compute\n",
        "pipeline_job.settings.default_compute = \"cpu-cluster\""
      ],
      "outputs": [],
      "execution_count": 17,
      "metadata": {
        "gather": {
          "logged": 1676539520831
        }
      }
    },
    {
      "cell_type": "markdown",
      "source": [
        "# 3.2 Submit pipeline job"
      ],
      "metadata": {}
    },
    {
      "cell_type": "code",
      "source": [
        "# submit the pipeline job\n",
        "pipeline_job = ml_client.jobs.create_or_update(\n",
        "    pipeline_job, experiment_name=\"pipeline_samples\"\n",
        ")\n",
        "pipeline_job"
      ],
      "outputs": [
        {
          "output_type": "execute_result",
          "execution_count": 18,
          "data": {
            "text/plain": "PipelineJob({'inputs': {}, 'outputs': {}, 'component': _PipelineComponent({'components': {}, 'auto_increment_version': False, 'is_anonymous': True, 'name': 'be38c484-e3c9-4b35-aab8-d0521182a927', 'description': None, 'tags': {}, 'properties': {}, 'id': None, 'base_path': None, 'creation_context': None, 'serialize': <msrest.serialization.Serializer object at 0x7f4a87aca080>, 'version': '1', 'latest_version': None, 'schema': None, 'type': 'pipeline_component', 'display_name': 'train_cifar_10_with_pytorch', 'is_deterministic': True, 'inputs': {}, 'outputs': {}, 'source': <ComponentSource.REST: 'REST'>, 'yaml_str': None, 'other_parameter': {}, 'func': <function [component] train_cifar_10_with_pytorch at 0x7f4a90161900>}), 'type': 'pipeline', 'status': 'Preparing', 'log_files': None, 'name': 'willing_thread_hz49dyj4y1', 'description': None, 'tags': {}, 'properties': {'mlflow.source.git.repoURL': 'https://github.com/Azure/azureml-examples.git', 'mlflow.source.git.branch': 'jyravi-patch-2', 'mlflow.source.git.commit': 'dd1d71ef0d115e8b6918ef83a82145222dd9f163', 'azureml.git.dirty': 'True', 'azureml.DevPlatv2': 'true', 'azureml.runsource': 'azureml.PipelineRun', 'runSource': 'MFE', 'runType': 'HTTP', 'azureml.parameters': '{}', 'azureml.continue_on_step_failure': 'False', 'azureml.continue_on_failed_optional_input': 'True', 'azureml.defaultComputeName': 'cpu-cluster', 'azureml.defaultDataStoreName': 'workspaceblobstore', 'azureml.pipelineComponent': 'pipelinerun'}, 'id': '/subscriptions/225d6361-069a-4dfb-9bbb-3ebb42663de0/resourceGroups/testFeast/providers/Microsoft.MachineLearningServices/workspaces/mlqsrwdadqzph7i/jobs/willing_thread_hz49dyj4y1', 'base_path': './', 'creation_context': <azure.ai.ml._restclient.v2022_02_01_preview.models._models_py3.SystemData object at 0x7f4a87ac8220>, 'serialize': <msrest.serialization.Serializer object at 0x7f4a87acaa40>, 'display_name': 'train_cifar_10_with_pytorch', 'experiment_name': 'pipeline_samples', 'compute': None, 'services': {'Tracking': <azure.ai.ml._restclient.v2022_02_01_preview.models._models_py3.JobService object at 0x7f4a87ac8550>, 'Studio': <azure.ai.ml._restclient.v2022_02_01_preview.models._models_py3.JobService object at 0x7f4a87ac8520>}, 'jobs': {'get_data': {}, 'train_model': {}, 'eval_model': {}}, 'settings': <azure.ai.ml.entities._job.pipeline.pipeline_job_settings.PipelineJobSettings object at 0x7f4a87ac8700>, 'identity': None, 'schedule': None, 'default_code': None, 'default_environment': None})",
            "text/html": "<table style=\"width:100%\"><tr><th>Experiment</th><th>Name</th><th>Type</th><th>Status</th><th>Details Page</th></tr><tr><td>pipeline_samples</td><td>willing_thread_hz49dyj4y1</td><td>pipeline</td><td>Preparing</td><td><a href=\"https://ml.azure.com/runs/willing_thread_hz49dyj4y1?wsid=/subscriptions/225d6361-069a-4dfb-9bbb-3ebb42663de0/resourcegroups/testFeast/workspaces/mlqsrwdadqzph7i&amp;tid=72f988bf-86f1-41af-91ab-2d7cd011db47\" target=\"_blank\" rel=\"noopener\">Link to Azure Machine Learning studio</a></td></tr></table>"
          },
          "metadata": {}
        }
      ],
      "execution_count": 18,
      "metadata": {
        "gather": {
          "logged": 1676539529861
        }
      }
    },
    {
      "cell_type": "code",
      "source": [
        "# Wait until the job completes\n",
        "ml_client.jobs.stream(pipeline_job.name)"
      ],
      "outputs": [
        {
          "output_type": "stream",
          "name": "stdout",
          "text": "RunId: willing_thread_hz49dyj4y1\nWeb View: https://ml.azure.com/runs/willing_thread_hz49dyj4y1?wsid=/subscriptions/225d6361-069a-4dfb-9bbb-3ebb42663de0/resourcegroups/testFeast/workspaces/mlqsrwdadqzph7i\n\nStreaming logs/azureml/executionlogs.txt\n========================================\n\n[2023-02-16 09:25:29Z] Completing processing run id d5322694-5f39-4bd1-8163-300ccc82111f.\n[2023-02-16 09:25:30Z] Completing processing run id 27272631-31d0-4372-b9e7-ba2be209a6e8.\n[2023-02-16 09:25:30Z] Completing processing run id 42ec06fd-cf5d-40a5-abc4-e1549ac9b95d.\n[2023-02-16 09:25:30Z] Finishing experiment: no runs left and nothing to schedule.\n\nExecution Summary\n=================\nRunId: willing_thread_hz49dyj4y1\nWeb View: https://ml.azure.com/runs/willing_thread_hz49dyj4y1?wsid=/subscriptions/225d6361-069a-4dfb-9bbb-3ebb42663de0/resourcegroups/testFeast/workspaces/mlqsrwdadqzph7i\n\n"
        }
      ],
      "execution_count": 19,
      "metadata": {
        "gather": {
          "logged": 1676539532263
        }
      }
    },
    {
      "cell_type": "markdown",
      "source": [
        "# Next Steps\n",
        "You can see further examples of running a pipeline job [here](../)"
      ],
      "metadata": {}
    }
  ],
  "metadata": {
    "description": {
      "description": "Get data, train and evaluate a model in pipeline with Components"
    },
    "interpreter": {
      "hash": "45ee23ad53d8447c1a4a7f9f605254595f8ee53c2e1723e7948bbd485e96ca91"
    },
    "kernelspec": {
      "name": "python310-sdkv2",
      "language": "python",
      "display_name": "Python 3.10 - SDK V2"
    },
    "language_info": {
      "name": "python",
      "version": "3.10.4",
      "mimetype": "text/x-python",
      "codemirror_mode": {
        "name": "ipython",
        "version": 3
      },
      "pygments_lexer": "ipython3",
      "nbconvert_exporter": "python",
      "file_extension": ".py"
    },
    "kernel_info": {
      "name": "python310-sdkv2"
    },
    "microsoft": {
      "host": {
        "AzureML": {
          "notebookHasBeenCompleted": true
        }
      }
    },
    "nteract": {
      "version": "nteract-front-end@1.0.0"
    }
  },
  "nbformat": 4,
  "nbformat_minor": 4
}