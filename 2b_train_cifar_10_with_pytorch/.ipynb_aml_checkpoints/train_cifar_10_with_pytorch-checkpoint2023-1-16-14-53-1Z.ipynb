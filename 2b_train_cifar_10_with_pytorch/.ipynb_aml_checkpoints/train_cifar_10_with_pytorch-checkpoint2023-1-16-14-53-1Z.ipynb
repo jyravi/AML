{
  "cells": [
    {
      "cell_type": "markdown",
      "source": [
        "# cifar-10 pipeline\n",
        "\n",
        "**Requirements** - In order to benefit from this tutorial, you will need:\n",
        "- A basic understanding of Machine Learning\n",
        "- An Azure account with an active subscription - [Create an account for free](https://azure.microsoft.com/free/?WT.mc_id=A261C142F)\n",
        "- An Azure ML workspace with computer cluster - [Configure workspace](../../configuration.ipynb)\n",
        "- A python environment\n",
        "- Installed Azure Machine Learning Python SDK v2 - [install instructions](../../../README.md) - check the getting started section\n",
        "\n",
        "**Learning Objectives** - By the end of this tutorial, you should be able to:\n",
        "- Connect to your AML workspace from the Python SDK\n",
        "- Define `CommandComponent` using YAML\n",
        "- Create basic `Pipeline` using component from local YAML file\n",
        "\n",
        "**Motivations** - This notebook explains how to define `commandComponent` via YAML then use command component to build pipeline. The command compoonent is a fundamental construct of Azure Machine Learning pipeline. It can be used to run a task on a specified compute (either local or on the cloud). The command compoonent accepts `Environment` to setup required infrastructure. You can define a `command` to run on this infrastructure with `inputs`. You can reuse the same `Component` with different pipeline.  "
      ],
      "metadata": {}
    },
    {
      "cell_type": "markdown",
      "source": [
        "# 1. Connect to Azure Machine Learning Workspace\n",
        "\n",
        "The [workspace](https://docs.microsoft.com/en-us/azure/machine-learning/concept-workspace) is the top-level resource for Azure Machine Learning, providing a centralized place to work with all the artifacts you create when you use Azure Machine Learning. In this section we will connect to the workspace in which the job will be run.\n",
        "\n",
        "## 1.1 Import the required libraries"
      ],
      "metadata": {}
    },
    {
      "cell_type": "code",
      "source": [
        "# import required libraries\n",
        "from azure.identity import DefaultAzureCredential, InteractiveBrowserCredential\n",
        "\n",
        "from azure.ai.ml import MLClient, Input\n",
        "from azure.ai.ml.dsl import pipeline\n",
        "from azure.ai.ml import load_component"
      ],
      "outputs": [],
      "execution_count": 13,
      "metadata": {
        "gather": {
          "logged": 1676539490647
        }
      }
    },
    {
      "cell_type": "markdown",
      "source": [
        "## 1.2 Configure credential\n",
        "\n",
        "We are using `DefaultAzureCredential` to get access to workspace. \n",
        "`DefaultAzureCredential` should be capable of handling most Azure SDK authentication scenarios. \n",
        "\n",
        "Reference for more available credentials if it does not work for you: [configure credential example](../../configuration.ipynb), [azure-identity reference doc](https://docs.microsoft.com/en-us/python/api/azure-identity/azure.identity?view=azure-python)."
      ],
      "metadata": {}
    },
    {
      "cell_type": "code",
      "source": [
        "credential = DefaultAzureCredential()\r\n",
        "\r\n",
        "    # Enter details of your AML workspace\r\n",
        "subscription_id = \"\"\r\n",
        "resource_group = \"\"\r\n",
        "workspace = \"\"\r\n",
        "ml_client = MLClient(credential, subscription_id, resource_group, workspace)"
      ],
      "outputs": [],
      "execution_count": 14,
      "metadata": {
        "jupyter": {
          "source_hidden": false,
          "outputs_hidden": false
        },
        "nteract": {
          "transient": {
            "deleting": false
          }
        },
        "gather": {
          "logged": 1676539493308
        }
      }
    },
    {
      "cell_type": "markdown",
      "source": [
        "## 1.3 Get a handle to the workspace\n",
        "\n",
        "We use config file to connect to a workspace. The Azure ML workspace should be configured with computer cluster. [Check this notebook for configure a workspace](../../configuration.ipynb)"
      ],
      "metadata": {}
    },
    {
      "cell_type": "markdown",
      "source": [
        "# 2. Define command component via YAML\n",
        "Define command component using YAML and load as function."
      ],
      "metadata": {}
    },
    {
      "cell_type": "code",
      "source": [
        "parent_dir = \".\"\n",
        "get_data_func = load_component(\"./get-data-1.yml\")\n",
        "train_model_func = load_component(\"./train-model.yml\")\n",
        "eval_model_func = load_component(\"./eval-model.yml\")"
      ],
      "outputs": [],
      "execution_count": 24,
      "metadata": {
        "gather": {
          "logged": 1676549552642
        }
      }
    },
    {
      "cell_type": "code",
      "source": [
        "print(get_data_func)"
      ],
      "outputs": [
        {
          "output_type": "stream",
          "name": "stdout",
          "text": "$schema: https://azuremlschemas.azureedge.net/latest/commandComponent.schema.json\nname: get_data\ndisplay_name: Get Data\ntype: command\ninputs:\n  cifar_zip:\n    type: uri_file\noutputs:\n  cifar:\n    type: uri_folder\ncommand: python get_data.py --input_data ${{inputs.cifar_zip}} --output_folder ${{outputs.cifar}}\nenvironment: azureml:AzureML-sklearn-1.0-ubuntu20.04-py38-cpu:1\ncode: azureml:./get-data\nis_deterministic: true\ntags: {}\n\n"
        }
      ],
      "execution_count": 25,
      "metadata": {
        "jupyter": {
          "source_hidden": false,
          "outputs_hidden": false
        },
        "nteract": {
          "transient": {
            "deleting": false
          }
        },
        "gather": {
          "logged": 1676549576071
        }
      }
    },
    {
      "cell_type": "markdown",
      "source": [
        "# 3. Basic pipeline job\n",
        "\n",
        "## 3.1 Build pipeline"
      ],
      "metadata": {}
    },
    {
      "cell_type": "code",
      "source": [
        "# Define pipeline\n",
        "@pipeline()\n",
        "def train_cifar_10_with_pytorch():\n",
        "    \"\"\"CIFAR-10 Pipeline Example.\"\"\"\n",
        "    # define the job to get data\n",
        "    get_data = get_data_func(\n",
        "        cifar_zip=Input(\n",
        "            path=\"wasbs://datasets@azuremlexamples.blob.core.windows.net/cifar-10-python.tar.gz\",\n",
        "            type=\"uri_file\",\n",
        "        )\n",
        "    )\n",
        "    get_data.outputs.cifar.mode = \"upload\"\n",
        "\n",
        "    # define the job to train the model\n",
        "    train_model = train_model_func(epochs=1, cifar=get_data.outputs.cifar)\n",
        "    train_model.compute = \"gpu-cluster-V100\"\n",
        "    train_model.outputs.model_dir.mode = \"upload\"\n",
        "    train_model.resources.instance_count = 1\n",
        "\n",
        "    # define the job to evaluate the model\n",
        "    eval_model = eval_model_func(\n",
        "        cifar=get_data.outputs.cifar, model_dir=train_model.outputs.model_dir\n",
        "    )\n",
        "    eval_model.compute = \"gpu-cluster-V100\"\n",
        "    eval_model.resources.instance_count = 1\n",
        "\n",
        "\n",
        "pipeline_job = train_cifar_10_with_pytorch()\n",
        "\n",
        "# set pipeline level compute\n",
        "pipeline_job.settings.default_compute = \"cpu-cluster\""
      ],
      "outputs": [],
      "execution_count": 17,
      "metadata": {
        "gather": {
          "logged": 1676539520831
        }
      }
    },
    {
      "cell_type": "markdown",
      "source": [
        "# 3.2 Submit pipeline job"
      ],
      "metadata": {}
    },
    {
      "cell_type": "code",
      "source": [
        "# submit the pipeline job\n",
        "pipeline_job = ml_client.jobs.create_or_update(\n",
        "    pipeline_job, experiment_name=\"pipeline_samples\"\n",
        ")\n",
        "pipeline_job"
      ],
      "outputs": [],
      "execution_count": 27,
      "metadata": {
        "gather": {
          "logged": 1676559154226
        }
      }
    },
    {
      "cell_type": "code",
      "source": [
        "# Wait until the job completes\n",
        "ml_client.jobs.stream(pipeline_job.name)"
      ],
      "outputs": [],
      "execution_count": 26,
      "metadata": {
        "gather": {
          "logged": 1676559103635
        }
      }
    },
    {
      "cell_type": "markdown",
      "source": [
        "# Next Steps\n",
        "You can see further examples of running a pipeline job [here](../)"
      ],
      "metadata": {}
    }
  ],
  "metadata": {
    "description": {
      "description": "Get data, train and evaluate a model in pipeline with Components"
    },
    "interpreter": {
      "hash": "45ee23ad53d8447c1a4a7f9f605254595f8ee53c2e1723e7948bbd485e96ca91"
    },
    "kernelspec": {
      "name": "python310-sdkv2",
      "language": "python",
      "display_name": "Python 3.10 - SDK V2"
    },
    "language_info": {
      "name": "python",
      "version": "3.10.4",
      "mimetype": "text/x-python",
      "codemirror_mode": {
        "name": "ipython",
        "version": 3
      },
      "pygments_lexer": "ipython3",
      "nbconvert_exporter": "python",
      "file_extension": ".py"
    },
    "kernel_info": {
      "name": "python310-sdkv2"
    },
    "microsoft": {
      "host": {
        "AzureML": {
          "notebookHasBeenCompleted": true
        }
      }
    },
    "nteract": {
      "version": "nteract-front-end@1.0.0"
    }
  },
  "nbformat": 4,
  "nbformat_minor": 4
}